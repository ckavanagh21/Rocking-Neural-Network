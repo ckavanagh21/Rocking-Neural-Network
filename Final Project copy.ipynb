{
 "cells": [
  {
   "cell_type": "code",
   "execution_count": 1,
   "metadata": {
    "ExecuteTime": {
     "end_time": "2019-05-14T23:57:20.051203Z",
     "start_time": "2019-05-14T23:57:19.626384Z"
    }
   },
   "outputs": [],
   "source": [
    "import string\n",
    "import random\n",
    "import torch\n",
    "import torch.nn as nn\n",
    "import matplotlib.pyplot as plt"
   ]
  },
  {
   "cell_type": "markdown",
   "metadata": {},
   "source": [
    "#### Prepare for Dataset"
   ]
  },
  {
   "cell_type": "code",
   "execution_count": 2,
   "metadata": {
    "ExecuteTime": {
     "end_time": "2019-05-14T23:57:20.060842Z",
     "start_time": "2019-05-14T23:57:20.053165Z"
    }
   },
   "outputs": [
    {
     "name": "stdout",
     "output_type": "stream",
     "text": [
      "Length of file: 106526624\n",
      "All possible characters: 0123456789abcdefghijklmnopqrstuvwxyzABCDEFGHIJKLMNOPQRSTUVWXYZ!\"#$%&'()*+,-./:;<=>?@[\\]^_`{|}~ \t\n",
      "\u000b\f\n",
      "Number of all possible characters: 100\n"
     ]
    }
   ],
   "source": [
    "all_chars       = string.printable\n",
    "n_chars         = len(all_chars)\n",
    "file            = open('./trainlyrics.txt').read()\n",
    "file_len        = len(file)\n",
    "\n",
    "print('Length of file: {}'.format(file_len))\n",
    "print('All possible characters: {}'.format(all_chars))\n",
    "print('Number of all possible characters: {}'.format(n_chars))"
   ]
  },
  {
   "cell_type": "code",
   "execution_count": 3,
   "metadata": {
    "ExecuteTime": {
     "end_time": "2019-05-14T23:57:20.077596Z",
     "start_time": "2019-05-14T23:57:20.064808Z"
    }
   },
   "outputs": [],
   "source": [
    "# Get a random sequence of rock lyrics.\n",
    "def get_random_seq():\n",
    "    seq_len     = 128  # The length of an input sequence.\n",
    "    start_index = random.randint(0, file_len - seq_len)\n",
    "    end_index   = start_index + seq_len + 1\n",
    "    return file[start_index:end_index]\n",
    "\n",
    "# Convert the sequence to one-hot tensor.\n",
    "def seq_to_onehot(seq):\n",
    "    tensor = torch.zeros(len(seq), 1, n_chars) \n",
    "    # Shape of the tensor:\n",
    "    #     (sequence length, batch size, classes)\n",
    "    # Here we use batch size = 1 and classes = number of unique characters.\n",
    "    for t, char in enumerate(seq):\n",
    "        index = all_chars.index(char)\n",
    "        tensor[t][0][index] = 1\n",
    "    return tensor\n",
    "\n",
    "# Convert the sequence to index tensor.\n",
    "def seq_to_index(seq):\n",
    "    tensor = torch.zeros(len(seq), 1)\n",
    "    # Shape of the tensor: \n",
    "    #     (sequence length, batch size).\n",
    "    # Here we use batch size = 1.\n",
    "    for t, char in enumerate(seq):\n",
    "        tensor[t] = all_chars.index(char)\n",
    "    return tensor\n",
    "\n",
    "# Sample a mini-batch including input tensor and target tensor.\n",
    "def get_input_and_target():\n",
    "    seq    = get_random_seq()\n",
    "    input  = seq_to_onehot(seq[:-1])      # Input is represented in one-hot.\n",
    "    target = seq_to_index(seq[1:]).long() # Target is represented in index.\n",
    "    return input, target"
   ]
  },
  {
   "cell_type": "markdown",
   "metadata": {},
   "source": [
    "#### Choose a Device"
   ]
  },
  {
   "cell_type": "code",
   "execution_count": 4,
   "metadata": {
    "ExecuteTime": {
     "end_time": "2019-05-14T23:57:20.129301Z",
     "start_time": "2019-05-14T23:57:20.081156Z"
    }
   },
   "outputs": [
    {
     "name": "stdout",
     "output_type": "stream",
     "text": [
      "cuda:0\n"
     ]
    }
   ],
   "source": [
    "# If there are GPUs, choose the first one for computing. Otherwise use CPU.\n",
    "device = torch.device(\"cuda:0\" if torch.cuda.is_available() else \"cpu\")\n",
    "print(device)  \n",
    "# If 'cuda:0' is printed, it means GPU is available."
   ]
  },
  {
   "cell_type": "markdown",
   "metadata": {},
   "source": [
    "#### Network Definition"
   ]
  },
  {
   "cell_type": "code",
   "execution_count": 5,
   "metadata": {
    "ExecuteTime": {
     "end_time": "2019-05-14T23:57:22.437344Z",
     "start_time": "2019-05-14T23:57:20.131573Z"
    }
   },
   "outputs": [
    {
     "data": {
      "text/plain": [
       "Net(\n",
       "  (rnn): RNNCell(100, 100)\n",
       "  (linear): Linear(in_features=100, out_features=100, bias=True)\n",
       ")"
      ]
     },
     "execution_count": 5,
     "metadata": {},
     "output_type": "execute_result"
    }
   ],
   "source": [
    "class Net(nn.Module):\n",
    "    def __init__(self):\n",
    "        # Initialization.\n",
    "        super(Net, self).__init__()\n",
    "        self.input_size  = n_chars   # Input size: Number of unique chars.\n",
    "        self.hidden_size = 100       # Hidden size: 100.\n",
    "        self.output_size = n_chars   # Output size: Number of unique chars.\n",
    "        \n",
    "        self.rnn = nn.RNNCell(self.input_size, self.hidden_size)\n",
    "        self.linear = nn.Linear(self.hidden_size, self.output_size)\n",
    "    \n",
    "    def forward(self, input, hidden):\n",
    "        \"\"\" Forward function.\n",
    "              input:  One-hot input. It refers to the x_t in homework write-up.\n",
    "              hidden: Previous hidden state. It refers to the h_{t-1}.\n",
    "            Returns (output, hidden) where output refers to y_t and \n",
    "                     hidden refers to h_t.\n",
    "        \"\"\"\n",
    "        # Forward function.\n",
    "        hidden = self.rnn(input, hidden)\n",
    "        output = self.linear(hidden)\n",
    "\n",
    "        return output, hidden\n",
    "\n",
    "    def init_hidden(self):\n",
    "        # Initial hidden state.\n",
    "        # 1 means batch size = 1.\n",
    "        return torch.zeros(1, self.hidden_size).to(device) \n",
    "    \n",
    "net = Net()     # Create the network instance.\n",
    "net.to(device)  # Move the network parameters to the specified device."
   ]
  },
  {
   "cell_type": "markdown",
   "metadata": {},
   "source": [
    "#### Training Step and Evaluation Step"
   ]
  },
  {
   "cell_type": "code",
   "execution_count": 6,
   "metadata": {
    "ExecuteTime": {
     "end_time": "2019-05-14T23:57:22.449539Z",
     "start_time": "2019-05-14T23:57:22.440333Z"
    }
   },
   "outputs": [],
   "source": [
    "# Training step function.\n",
    "def train_step(net, opt, input, target):\n",
    "    \"\"\" Training step.\n",
    "        net:    The network instance.\n",
    "        opt:    The optimizer instance.\n",
    "        input:  Input tensor.  Shape: [seq_len, 1, n_chars].\n",
    "        target: Target tensor. Shape: [seq_len, 1].\n",
    "    \"\"\"\n",
    "    seq_len = input.shape[0]    # Get the sequence length of current input.\n",
    "    hidden = net.init_hidden()  # Initial hidden state.\n",
    "    net.zero_grad()             # Clear the gradient.\n",
    "    loss = 0                    # Initial loss.\n",
    "\n",
    "    for t in range(seq_len):    # For each one in the input sequence.\n",
    "        output, hidden = net(input[t], hidden)\n",
    "        loss += loss_func(output, target[t])\n",
    "\n",
    "    loss.backward()             # Backward. \n",
    "    opt.step()                  # Update the weights.\n",
    "\n",
    "    return loss / seq_len       # Return the average loss w.r.t sequence length."
   ]
  },
  {
   "cell_type": "code",
   "execution_count": 7,
   "metadata": {
    "ExecuteTime": {
     "end_time": "2019-05-15T03:10:36.378318Z",
     "start_time": "2019-05-15T03:10:36.366394Z"
    }
   },
   "outputs": [],
   "source": [
    "# Evaluation step function.\n",
    "def eval_step(net, init_seq='W', predicted_len=100):\n",
    "    # Initialize the hidden state, input and the predicted sequence.\n",
    "    hidden        = net.init_hidden()\n",
    "    init_input    = seq_to_onehot(init_seq).to(device)\n",
    "    predicted_seq = init_seq\n",
    "\n",
    "    # Use initial string to \"build up\" hidden state.\n",
    "    for t in range(len(init_seq) - 1):\n",
    "        output, hidden = net(init_input[t], hidden)\n",
    "        \n",
    "    # Set current input as the last character of the initial string.\n",
    "    input = init_input[-1]\n",
    "    \n",
    "    # Predict more characters after the initial string.\n",
    "    for t in range(predicted_len):\n",
    "        # Get the current output and hidden state.\n",
    "        output, hidden = net(input, hidden)\n",
    "        \n",
    "        # Sample from the output as a multinomial distribution.\n",
    "        predicted_index = torch.multinomial(output.view(-1).exp(), 1)[0]\n",
    "        \n",
    "        # Add predicted character to the sequence and use it as next input.\n",
    "        predicted_char  = all_chars[predicted_index]\n",
    "        predicted_seq  += predicted_char\n",
    "        \n",
    "        # Use the predicted character to generate the input of next round.\n",
    "        input = seq_to_onehot(predicted_char)[0].to(device)\n",
    "\n",
    "    return predicted_seq"
   ]
  },
  {
   "cell_type": "markdown",
   "metadata": {},
   "source": [
    "#### Training Procedure"
   ]
  },
  {
   "cell_type": "code",
   "execution_count": 8,
   "metadata": {
    "ExecuteTime": {
     "end_time": "2019-05-15T00:38:13.556497Z",
     "start_time": "2019-05-14T23:57:22.478732Z"
    },
    "scrolled": true
   },
   "outputs": [
    {
     "name": "stdout",
     "output_type": "stream",
     "text": [
      "iter:999/20000 loss:2.455341100692749\n",
      "generated sequence: W whire are winhtre gisabe\n",
      "Tupre gowe stop ruel some\n",
      "Winge w wh perlling timee)\n",
      "Ne on the we mincelri\n",
      "\n",
      "iter:1999/20000 loss:2.08636474609375\n",
      "generated sequence: Way\n",
      "The 'mwna to ceaced and swamy, in therh you know\n",
      "It'm let teatny they be the renad seee on you\n",
      "Is\n",
      "\n",
      "iter:2999/20000 loss:2.032464027404785\n",
      "generated sequence: We thing  gring\n",
      "Famod races you wall gre trascrant bming of love\"\n",
      "\"Walk thione fran i just love\n",
      "Ho wa\n",
      "\n",
      "iter:3999/20000 loss:1.967780590057373\n",
      "generated sequence: Wher reep fer Hear the vel\n",
      "ere\n",
      "Nown, I'm you bel se bink\n",
      "get, me, you're sock\n",
      "in hear wo\n",
      "'r ohh natce\n",
      "\n",
      "iter:4999/20000 loss:1.9093589782714844\n",
      "generated sequence: When Mhe's got carise town\n",
      "All\n",
      "I could\"\n",
      "\"I heat bether beve\n",
      "Protiles the shepele gay my life i'll sut\n",
      "\n",
      "iter:5999/20000 loss:1.8925138711929321\n",
      "generated sequence: Whon you\n",
      "Thet's anys stoot love a hese fast?\n",
      "I't no \n",
      "It mesawnow love chit allber homett slock be to \n",
      "\n",
      "iter:6999/20000 loss:1.8798916339874268\n",
      "generated sequence: What chate a worth\n",
      "If my prome if juam yout as you mind.\n",
      "foon a know me chano \n",
      "She were as anddood yo\n",
      "\n",
      "iter:7999/20000 loss:1.9057087898254395\n",
      "generated sequence: Wlone in there'sich\n",
      "Cruent while's shiles rel eoltachane a or and he\n",
      "A youder\n",
      "way it whung\n",
      "(Cause whe\n",
      "\n",
      "iter:8999/20000 loss:1.8630592823028564\n",
      "generated sequence: Were you can't back Disty where whong till the calling on my hulk.en. and oht has bably hau\n",
      "My giecke\n",
      "\n",
      "iter:9999/20000 loss:1.8444393873214722\n",
      "generated sequence: Will time me?\n",
      "That the bornenarly twaking\n",
      "New is bore\n",
      "Titicor\n",
      "You dri-while to your\n",
      "whyor, take your \n",
      "\n",
      "iter:10999/20000 loss:1.869377851486206\n",
      "generated sequence: Wheateere to you tlieve oh.\n",
      "Whia seatil that one, thome the ramet)\n",
      "I Fotiof\n",
      "All whon'to menty to baby\n",
      "\n",
      "iter:11999/20000 loss:1.8631633520126343\n",
      "generated sequence: Whead and\n",
      "Looke, and beasp\n",
      "\n",
      "But ly tume the home in hish time be and \n",
      "So hold make\"\n",
      "\"Thi stey,\n",
      "Youh h\n",
      "\n",
      "iter:12999/20000 loss:1.847388744354248\n",
      "generated sequence: Wenck you one out it evend\n",
      "Kisset ane shre\n",
      "in it just done\n",
      "I can, in spow\n",
      "\n",
      "_ou've be come ines how sy\n",
      "\n",
      "iter:13999/20000 loss:1.8251914978027344\n",
      "generated sequence: Where not are\n",
      "like on a frice was thinkne\n",
      "\n",
      "Her to you fee big yeah my from this be\n",
      "Stoam with a sones\n",
      "\n",
      "iter:14999/20000 loss:1.8797882795333862\n",
      "generated sequence: When fast wholling\n",
      "Thant meed more.\n",
      "Orint\n",
      "I'm n papled you Miten my twand\n",
      "Indice\n",
      "the Ding my pakent o\n",
      "\n",
      "iter:15999/20000 loss:1.9389369487762451\n",
      "generated sequence: With whing here a tlive\n",
      "I wootesh a steaitide at wronc awrught breaked ftr I rottcan,\n",
      "I get fathe it \n",
      "\n",
      "iter:16999/20000 loss:2.031507730484009\n",
      "generated sequence: Whel faik o cenating\n",
      "[A hath the pl-s Wnodoo\n",
      "Tas Loule cohe foy ime take fooun the ton'tin andend-bo-\n",
      "\n",
      "iter:17999/20000 loss:2.8622591495513916\n",
      "generated sequence: Wh Iis or miermrond oou\n",
      "le'o shte mato3 ou siarnf, lab,saayob se a doo oYot-h cok cay EYile\n",
      " malldr o\n",
      "\n",
      "iter:18999/20000 loss:2.7081615924835205\n",
      "generated sequence: Whee\n",
      "B-hen waa ma th\n",
      "gy  hr I\n",
      "Yo syeain fi  Ae flefet's ere\n",
      "\n",
      "Yoele ahe sh ames ete mwan,ns fe thcend \n",
      "\n",
      "iter:19999/20000 loss:2.683614730834961\n",
      "generated sequence: Wh ary\n",
      "Son l\n",
      "Donhe w?Hereran is\n",
      "Iisek caro\n",
      "Io kun mory\n",
      "do rndivere in chist I bufe riutm renouk io ik\n",
      "\n"
     ]
    }
   ],
   "source": [
    "# Number of iterations.\n",
    "# NOTE: You may reduce the number of training iterations if the training takes long.\n",
    "iters       = 20000  # Number of training iterations.\n",
    "print_iters = 1000    # Number of iterations for each log printing.\n",
    "\n",
    "# The loss variables.\n",
    "all_losses = []\n",
    "loss_sum   = 0\n",
    "\n",
    "# Initialize the optimizer and the loss function.\n",
    "opt       = torch.optim.Adam(net.parameters(), lr=0.005)\n",
    "loss_func = nn.CrossEntropyLoss()\n",
    "\n",
    "# Training procedure.\n",
    "for i in range(iters):\n",
    "    input, target = get_input_and_target()            # Fetch input and target.\n",
    "    input, target = input.to(device), target.to(device) # Move to GPU memory.\n",
    "    loss      = train_step(net, opt, input, target)   # Calculate the loss.\n",
    "    loss_sum += loss                                  # Accumulate the loss.\n",
    "\n",
    "    # Print the log.\n",
    "    if i % print_iters == print_iters - 1:\n",
    "        print('iter:{}/{} loss:{}'.format(i, iters, loss_sum / print_iters))\n",
    "        print('generated sequence: {}\\n'.format(eval_step(net)))\n",
    "              \n",
    "        # Track the loss.\n",
    "        all_losses.append(loss_sum / print_iters)\n",
    "        loss_sum = 0"
   ]
  },
  {
   "cell_type": "markdown",
   "metadata": {},
   "source": [
    "#### Training Loss Curve"
   ]
  },
  {
   "cell_type": "code",
   "execution_count": 9,
   "metadata": {
    "ExecuteTime": {
     "end_time": "2019-05-15T00:38:13.728474Z",
     "start_time": "2019-05-15T00:38:13.559531Z"
    }
   },
   "outputs": [
    {
     "data": {
      "image/png": "[encoded data removed]",
      "text/plain": [
       "<Figure size 640x480 with 1 Axes>"
      ]
     },
     "metadata": {},
     "output_type": "display_data"
    }
   ],
   "source": [
    "items = [ele.item() for ele in all_losses] \n",
    "plt.xlabel('iters')\n",
    "plt.ylabel('loss')\n",
    "plt.plot(items)\n",
    "plt.show()"
   ]
  },
  {
   "cell_type": "markdown",
   "metadata": {},
   "source": [
    "#### Evaluation: A Sample of Generated Sequence"
   ]
  },
  {
   "cell_type": "code",
   "execution_count": 10,
   "metadata": {
    "ExecuteTime": {
     "end_time": "2019-05-15T03:10:52.267837Z",
     "start_time": "2019-05-15T03:10:51.986701Z"
    },
    "scrolled": true
   },
   "outputs": [
    {
     "name": "stdout",
     "output_type": "stream",
     "text": [
      "Warwacghau dess y,reno mn\n",
      "T Sou the dohe \n",
      "Sthn'vogts\n",
      "Anon, beatgour ykie thswt\n",
      "Idecay,e konasthed mf th ap oum tom absh  yanrynse on'mo\n",
      "Irt\n",
      "(oustsert'sher k k sowe youl \n",
      "Sangs'sae't ce thkn ilnuy f'dn ca eon e utog'tth\n",
      "s'trunn cot daat stir Icy as be b Wfrire my urnt Yoe yosey thuts'th\n",
      "(Mein\n",
      "I laoc aown aayyou\n",
      "\n",
      "aymy fastl\n",
      "Cot tou'tan\n",
      "Sath\n",
      "o nwatnk\n",
      "Jabet ydo\n",
      "tsk\n",
      "( thno ou,\n",
      "h\n",
      "mo y he te thi'y al l Ir motsat beanghheleS'a towrte len kera Iflstet yornd usw ft san'dtpllan at Yenckcelinn'tinden laph andmt owrrkuy yelungree'pe'cn deneh ournd\n",
      "ofekdae ghu'tne tIm khknrdwa honre\n",
      "Toe ta edon'rkne Iep 'd a\n"
     ]
    }
   ],
   "source": [
    "print(eval_step(net, predicted_len=600))"
   ]
  }
 ],
 "metadata": {
  "kernelspec": {
   "display_name": "Python 3",
   "language": "python",
   "name": "python3"
  },
  "language_info": {
   "codemirror_mode": {
    "name": "ipython",
    "version": 3
   },
   "file_extension": ".py",
   "mimetype": "text/x-python",
   "name": "python",
   "nbconvert_exporter": "python",
   "pygments_lexer": "ipython3",
   "version": "3.9.18"
  },
  "toc": {
   "base_numbering": 1,
   "nav_menu": {},
   "number_sections": true,
   "sideBar": true,
   "skip_h1_title": false,
   "title_cell": "Table of Contents",
   "title_sidebar": "Contents",
   "toc_cell": false,
   "toc_position": {},
   "toc_section_display": true,
   "toc_window_display": false
  }
 },
 "nbformat": 4,
 "nbformat_minor": 1
}
